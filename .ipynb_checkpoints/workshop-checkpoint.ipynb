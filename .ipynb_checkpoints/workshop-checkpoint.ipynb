{
 "cells": [
  {
   "cell_type": "markdown",
   "metadata": {
    "pycharm": {
     "name": "#%% md\n"
    }
   },
   "source": [
    "![Pytorch logo](./images/logo.png)\n",
    "\n",
    "In a previous workshop, you learned how to use Numpy to simply manage matrices in Python.\n",
    "In order to make the creation of neural networks easier and faster, we will learn to use Pytorch, a library created by Meta AI.\n",
    "\n",
    "Let's start by importing the libraries we will need!"
   ]
  },
  {
   "cell_type": "code",
   "execution_count": 12,
   "metadata": {
    "pycharm": {
     "name": "#%%\n"
    }
   },
   "outputs": [],
   "source": [
    "import numpy as np\n",
    "\n",
    "import torch\n",
    "from torch import nn\n",
    "import torch.nn.functional as F\n",
    "\n",
    "import matplotlib.pyplot as plt\n",
    "\n",
    "import sklearn\n",
    "from sklearn.datasets import make_blobs\n",
    "from sklearn.model_selection import train_test_split\n",
    "from sklearn.metrics import accuracy_score"
   ]
  },
  {
   "cell_type": "markdown",
   "metadata": {
    "pycharm": {
     "name": "#%% md\n"
    }
   },
   "source": [
    "## 1. Tensors\n",
    "\n",
    "Pytorch makes it very easy to use the GPU to perform matrix calculations more quickly without having to write additional code.\n",
    "Pytorch proposes an overlay to the Numpy arrays called Tensor. More simply, a Pytorch tensor is a Numpy matrix whose operations can be calculated on the GPU.\n",
    "\n",
    "You can find out more about tensors by following this link: [Pytorch Tensors](https://pytorch.org/tutorials/beginner/introyt/tensors_deeper_tutorial.html)\n",
    "\n",
    "Let's create our first tensor !"
   ]
  },
  {
   "cell_type": "code",
   "execution_count": 13,
   "metadata": {
    "pycharm": {
     "name": "#%%\n"
    }
   },
   "outputs": [
    {
     "name": "stdout",
     "output_type": "stream",
     "text": [
      "tensor([[0., 0., 0., 0.],\n",
      "        [0., 0., 0., 0.],\n",
      "        [0., 0., 0., 0.]])\n",
      "torch.Size([3, 4])\n",
      "=> Test passed :)\n"
     ]
    }
   ],
   "source": [
    "# Create a Tensor filled with 0 (we can also create a tensor filled with 1 using torch.ones())\n",
    "x = torch.zeros((3,4))\n",
    "\n",
    "print(x)\n",
    "print(x.shape)\n",
    "\n",
    "assert x.max() == 0 and x.min() == 0\n",
    "print('=> Test passed :)')"
   ]
  },
  {
   "cell_type": "code",
   "execution_count": 14,
   "metadata": {
    "pycharm": {
     "name": "#%%\n"
    }
   },
   "outputs": [
    {
     "name": "stdout",
     "output_type": "stream",
     "text": [
      "tensor([[0.2403, 0.0815, 0.1332],\n",
      "        [0.9991, 0.3701, 0.3907]])\n",
      "torch.Size([2, 3])\n",
      "=> Test passed :)\n"
     ]
    }
   ],
   "source": [
    "# Create a Tensor filled with random values (between 0 and 1)\n",
    "y = torch.rand((2,3))\n",
    "print(y)\n",
    "print(y.shape)\n",
    "\n",
    "assert y.min() >= 0 and y.max() <= 1\n",
    "print('=> Test passed :)')"
   ]
  },
  {
   "cell_type": "code",
   "execution_count": 15,
   "metadata": {
    "pycharm": {
     "name": "#%%\n"
    }
   },
   "outputs": [
    {
     "name": "stdout",
     "output_type": "stream",
     "text": [
      "tensor([[0.2403, 0.0815, 0.1332],\n",
      "        [0.9991, 0.3701, 0.3907]])\n",
      "tensor([[1.2403, 1.0815, 1.1332],\n",
      "        [1.9991, 1.3701, 1.3907]])\n",
      "tensor([[0.7208, 0.2446, 0.3997],\n",
      "        [2.9974, 1.1102, 1.1722]])\n"
     ]
    }
   ],
   "source": [
    "# We can apply arithmetics operations on tensors\n",
    "\n",
    "print(y)\n",
    "print(y + 1)\n",
    "print(y * 3)"
   ]
  },
  {
   "cell_type": "markdown",
   "metadata": {
    "pycharm": {
     "name": "#%% md\n"
    }
   },
   "source": [
    "There are many other operations that can be applied to tensors but we won't need them here."
   ]
  },
  {
   "cell_type": "markdown",
   "metadata": {
    "pycharm": {
     "name": "#%% md\n"
    }
   },
   "source": [
    "## 2. First Neural Network\n",
    "\n",
    "Let's create our first neural network. In PyTorch, our model is broken down into modules, knowing that each module can contain several others.\n",
    "Let's define our first module with the set of operations it will have to perform.\n",
    "\n",
    "More informations about [Pytorch Modules](https://pytorch.org/docs/stable/notes/modules.html)"
   ]
  },
  {
   "cell_type": "markdown",
   "metadata": {
    "pycharm": {
     "name": "#%% md\n"
    }
   },
   "source": [
    "We will define our first module and several functions that we will use in our model. Pytorch already integrates many useful functions in AI optimized for Tensor.\n",
    "\n",
    "![image.png](./images/nn.png)"
   ]
  },
  {
   "cell_type": "markdown",
   "metadata": {},
   "source": [
    "Let's begin by building a model with two [linear layers](https://pytorch.org/docs/stable/nn.html#linear-layers):"
   ]
  },
  {
   "cell_type": "code",
   "execution_count": 16,
   "metadata": {
    "pycharm": {
     "name": "#%%\n"
    }
   },
   "outputs": [],
   "source": [
    "class Network(nn.Module):\n",
    "\n",
    "    \"\"\"\n",
    "    We define all operations and parameters of the network.\n",
    "    \"\"\"\n",
    "    def __init__(self, label_count):\n",
    "        super(Network, self).__init__()\n",
    "        \n",
    "        # Create two linear layers (2 inputs, 50 neurons in hidden layer, [label_count] outputs)\n",
    "        self.linear1 = nn.Linear(2,50)\n",
    "        self.linear2 = nn.Linear(50,label_count)\n",
    "\n",
    "\n",
    "    \"\"\"\n",
    "    The function applies the forward of the model, i.e. it transforms the input into a prediction.\n",
    "\n",
    "    All the operations of the model will be applied successively to our data.\n",
    "    \"\"\"\n",
    "    def forward(self, input):\n",
    "        # Apply first linear transformation\n",
    "        output = self.linear1(input)\n",
    "        # Apply activation function\n",
    "        output = F.relu(output)\n",
    "        \n",
    "        # Apply second linear transformation\n",
    "        output = self.linear2(output)\n",
    "\n",
    "        return output\n",
    "    \n",
    "    \"\"\"\n",
    "    This function will be used to predict the label of our input.\n",
    "    \"\"\"\n",
    "    def predict(self, input):\n",
    "        # Apply activation function\n",
    "        output = F.relu(self.forward(input))\n",
    "\n",
    "        # Retrieve the highest probability from the output data\n",
    "        _, predicted = torch.max(output.data, 1)\n",
    "        return predicted"
   ]
  },
  {
   "cell_type": "code",
   "execution_count": 17,
   "metadata": {
    "pycharm": {
     "name": "#%%\n"
    }
   },
   "outputs": [],
   "source": [
    "EPOCH = 100\n",
    "LEARNING_RATE = 0.005\n",
    "CLASSES = 2\n",
    "\n",
    "network = Network(label_count=CLASSES)\n",
    "\n",
    "# choose a loss function (for example Cross Entropy)\n",
    "criterion = nn.CrossEntropyLoss()\n",
    "# choose an optimizer (for example Adam): pay attention to the documentation\n",
    "optimizer = torch.optim.Adam(network.parameters(), lr=LEARNING_RATE)"
   ]
  },
  {
   "cell_type": "markdown",
   "metadata": {
    "pycharm": {
     "name": "#%% md\n"
    }
   },
   "source": [
    "Criterion will be used to calculate the loss between the result obtained and the expected result of the network:  [CrossEntropyLoss](https://pytorch.org/docs/stable/generated/torch.nn.CrossEntropyLoss.html?highlight=crossentropy#torch.nn.CrossEntropyLoss)   \n",
    "Optimizer will be used to modify our network to get closer to the expected result: [Adam](https://pytorch.org/docs/stable/generated/torch.optim.Adam.html)  \n",
    "\n",
    "There are many other optimizers algorithms and loss functions, you can choose the one that best fits your data with the help of this documentation:\n",
    "  - [Ultimate guide to PyTorch optimizers](https://analyticsindiamag.com/ultimate-guide-to-pytorch-optimizers/)\n",
    "  - [PyTorch - Optimisation algorithms](https://pytorch.org/docs/stable/optim.html#algorithms)\n",
    "  - [PyTorch - Loss functions](https://pytorch.org/docs/stable/nn.html#loss-functions)"
   ]
  },
  {
   "cell_type": "markdown",
   "metadata": {
    "pycharm": {
     "name": "#%% md\n"
    }
   },
   "source": [
    "## 3. Data\n",
    "\n",
    "For this workshop, we will use fairly simple data so that everyone can understand.   \n",
    "Let's use `sklearn`'s [`make_blobs()`](https://scikit-learn.org/stable/modules/generated/sklearn.datasets.make_blobs.html#sklearn.datasets.make_blobs) function to generate 200 samples of data with 2 features and [`CLASSES`] centers. "
   ]
  },
  {
   "cell_type": "code",
   "execution_count": 21,
   "metadata": {
    "pycharm": {
     "name": "#%%\n"
    }
   },
   "outputs": [
    {
     "name": "stdout",
     "output_type": "stream",
     "text": [
      "Data shapes: (x, y):\n",
      "torch.Size([400, 2]) torch.Size([400])\n"
     ]
    },
    {
     "data": {
      "image/png": "[encoded data removed]",
      "text/plain": [
       "<Figure size 432x288 with 1 Axes>"
      ]
     },
     "metadata": {
      "needs_background": "light"
     },
     "output_type": "display_data"
    }
   ],
   "source": [
    "# use `make_blobs()` to generate data\n",
    "X, Y = sklearn.datasets.make_blobs(n_samples=200, n_features=2, centers=CLASSES)\n",
    "\n",
    "# In order to use our data with Pytorch, we will have to load them into a Tensor.\n",
    "x = torch.from_numpy(X.astype(np.float32))\n",
    "y = torch.from_numpy(Y.astype(np.int64))\n",
    "\n",
    "print(\"Data shapes: (x, y):\")\n",
    "print(x.shape, y.shape)\n",
    "\n",
    "plt.scatter(x[:, 0], x[:, 1], c=y,cmap='jet')\n",
    "plt.show()"
   ]
  },
  {
   "cell_type": "markdown",
   "metadata": {},
   "source": [
    "#### Now, let's split the data in a training set and a testing set:\n",
    "\n",
    "The training set will be used for training our model and the testing set will be used to make sure the model isn't overfitting.\n",
    "\n",
    "`sklearn` has a very useful function for this process: [`train_test_split()`](https://scikit-learn.org/stable/modules/generated/sklearn.model_selection.train_test_split.html)"
   ]
  },
  {
   "cell_type": "code",
   "execution_count": 22,
   "metadata": {},
   "outputs": [
    {
     "name": "stdout",
     "output_type": "stream",
     "text": [
      "Train / Test split shapes: (x_train, x_test, y_train, y_test): \n",
      "torch.Size([300, 2]) torch.Size([100, 2]) torch.Size([300]) torch.Size([100])\n"
     ]
    }
   ],
   "source": [
    "# use the train_test_split() function\n",
    "x_train, x_test, y_train, y_test = train_test_split(x,y)\n",
    "\n",
    "print(\"Train / Test split shapes: (x_train, x_test, y_train, y_test): \")\n",
    "print(x_train.shape, x_test.shape, y_train.shape, y_test.shape)"
   ]
  },
  {
   "cell_type": "markdown",
   "metadata": {
    "pycharm": {
     "name": "#%% md\n"
    }
   },
   "source": [
    "## 4. Training\n",
    "\n",
    "Now it's time to train our model! At the moment, our model is making random predictions (which is already a good start, it means that our data is getting through).  \n",
    "  \n",
    "We will collect the loss and accuracy of each epoch to see if our network improves its predictions or if there is a problem."
   ]
  },
  {
   "cell_type": "code",
   "execution_count": null,
   "metadata": {
    "pycharm": {
     "name": "#%%\n"
    }
   },
   "outputs": [],
   "source": [
    "loss_history = np.zeros(EPOCH)\n",
    "train_accuracy_history = np.zeros(EPOCH)\n",
    "test_accuracy_history = np.zeros(EPOCH)\n",
    "\n",
    "for epoch in range(EPOCH):\n",
    "    # Reset gradiants\n",
    "    optimizer.zero_grad()\n",
    "    # Forward\n",
    "    output = None\n",
    "    # Compute loss\n",
    "    loss = None\n",
    "    # Compute gradiants: ~ 1 line of code\n",
    "    \n",
    "    # Apply gradiants: ~ 1 line of code\n",
    "\n",
    "    # Monitoring\n",
    "    loss_history[epoch] = loss.item()\n",
    "    train_accuracy_history[epoch] = accuracy_score(network.predict(x_train),y_train)\n",
    "    test_accuracy_history[epoch] = accuracy_score(network.predict(x_test),y_test)\n",
    "    if (epoch % 10 == 0):\n",
    "        print(\"Epoch {} - Loss {} - Accuracy {}\".format(epoch, loss.item(), accuracy_score(network.predict(x_train),y_train)))\n"
   ]
  },
  {
   "cell_type": "markdown",
   "metadata": {
    "pycharm": {
     "name": "#%% md\n"
    }
   },
   "source": [
    "We are going to use matplotlib (a library allowing to draw graphs) in order to visualize more simply the measurements made during the training.\n",
    "\n",
    "Feel free to visit [Matplotlib documentation](https://matplotlib.org/stable/tutorials/introductory/usage.html) if you want more informations."
   ]
  },
  {
   "cell_type": "code",
   "execution_count": null,
   "metadata": {
    "pycharm": {
     "name": "#%%\n"
    }
   },
   "outputs": [],
   "source": [
    "plt.plot(np.arange(1, EPOCH + 1), loss_history)\n",
    "plt.show()\n",
    "\n",
    "plt.plot(np.arange(1, EPOCH + 1), train_accuracy_history)\n",
    "plt.plot(np.arange(1, EPOCH + 1), test_accuracy_history)\n",
    "plt.show()"
   ]
  },
  {
   "cell_type": "markdown",
   "metadata": {},
   "source": [
    "# Conclusion\n",
    "\n",
    "Finally, let's draw a decision boundary to demonstrate how smart our model is:"
   ]
  },
  {
   "cell_type": "code",
   "execution_count": null,
   "metadata": {},
   "outputs": [],
   "source": [
    "def predict(x):\n",
    "    x = torch.from_numpy(x).type(torch.FloatTensor)\n",
    "    ans = network.predict(x)\n",
    "    return ans.numpy()\n",
    "\n",
    "def draw_decision_boundary(X,y):\n",
    "    x_min, x_max = X[:, 0].min() - .5, X[:, 0].max() + .5\n",
    "    y_min, y_max = X[:, 1].min() - .5, X[:, 1].max() + .5\n",
    "    h = 0.01\n",
    "    xx,yy=np.meshgrid(np.arange(x_min, x_max, h), np.arange(y_min, y_max, h))\n",
    "    Z = predict(np.c_[xx.ravel(), yy.ravel()])\n",
    "    Z = Z.reshape(xx.shape)\n",
    "    plt.contourf(xx, yy, Z, cmap=plt.cm.Spectral)\n",
    "    plt.scatter(X[:, 0], X[:, 1], c=y, cmap=plt.cm.binary)\n",
    "\n",
    "draw_decision_boundary(x,y)"
   ]
  },
  {
   "cell_type": "markdown",
   "metadata": {
    "pycharm": {
     "name": "#%% md\n"
    }
   },
   "source": [
    "## 5. It's your turn!\n",
    "\n",
    "To access the second part of this workshop we invite you to open the second Jupyter Notebook *exercise.ipynb*"
   ]
  }
 ],
 "metadata": {
  "kernelspec": {
   "display_name": "Python 3 (ipykernel)",
   "language": "python",
   "name": "python3"
  },
  "language_info": {
   "codemirror_mode": {
    "name": "ipython",
    "version": 3
   },
   "file_extension": ".py",
   "mimetype": "text/x-python",
   "name": "python",
   "nbconvert_exporter": "python",
   "pygments_lexer": "ipython3",
   "version": "3.9.12"
  },
  "vscode": {
   "interpreter": {
    "hash": "916dbcbb3f70747c44a77c7bcd40155683ae19c65e1c03b4aa3499c5328201f1"
   }
  }
 },
 "nbformat": 4,
 "nbformat_minor": 1
}
